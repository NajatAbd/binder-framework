{
 "cells": [
  {
   "cell_type": "code",
   "execution_count": 132,
   "metadata": {},
   "outputs": [],
   "source": [
    "import pandas as pd"
   ]
  },
  {
   "cell_type": "code",
   "execution_count": 133,
   "metadata": {},
   "outputs": [],
   "source": [
    "df = pd.read_csv(\"Value_of_Energy_Cost_Savings_Program_Savings_for_Businesses_-_FY2020.csv\")\n"
   ]
  },
  {
   "cell_type": "markdown",
   "metadata": {},
   "source": [
    "### How many different companies are represented in the data set?\n"
   ]
  },
  {
   "cell_type": "code",
   "execution_count": 134,
   "metadata": {},
   "outputs": [
    {
     "data": {
      "text/plain": [
       "439"
      ]
     },
     "execution_count": 134,
     "metadata": {},
     "output_type": "execute_result"
    }
   ],
   "source": [
    "len(set(df['Company Name']))\n",
    "#or \n",
    "len(pd.unique(df['Company Name']))"
   ]
  },
  {
   "cell_type": "markdown",
   "metadata": {},
   "source": [
    "### What is the total number of jobs created for businesses in Queens?\n"
   ]
  },
  {
   "cell_type": "code",
   "execution_count": 135,
   "metadata": {},
   "outputs": [
    {
     "data": {
      "text/plain": [
       "90.0"
      ]
     },
     "execution_count": 135,
     "metadata": {},
     "output_type": "execute_result"
    }
   ],
   "source": [
    "df['City'] = df['City'].str.upper()\n",
    "df['City']  = df['City'].replace('QUEENS VILLAGE', \"QUEENS\")\n",
    "df['Job created']= df['Job created'].fillna(0)\n",
    "sum(df[df['City']== \"QUEENS\"]['Job created'])\n"
   ]
  },
  {
   "cell_type": "markdown",
   "metadata": {},
   "source": [
    "### How many different unique email domains names are there in the data set?\n"
   ]
  },
  {
   "cell_type": "code",
   "execution_count": 136,
   "metadata": {},
   "outputs": [
    {
     "data": {
      "text/plain": [
       "421"
      ]
     },
     "execution_count": 136,
     "metadata": {},
     "output_type": "execute_result"
    }
   ],
   "source": [
    "len(pd.unique(df['company email']))"
   ]
  },
  {
   "cell_type": "markdown",
   "metadata": {},
   "source": [
    "### Considering only NTAs with at least 5 listed businesses, what is the average total savings and the total jobs created for each NTA?\n"
   ]
  },
  {
   "cell_type": "code",
   "execution_count": 137,
   "metadata": {},
   "outputs": [],
   "source": [
    "df1 = df[df.groupby(['NTA'])['Company Name'].transform('count') > 4]\n",
    "col_name = {'Total Savings':'Average Total Savings','Job created':'Total Jobs created'}\n",
    "final_df = df1.groupby('NTA').agg({'Total Savings':'mean', 'Job created':'sum'}).rename(columns=col_name)\n"
   ]
  },
  {
   "cell_type": "markdown",
   "metadata": {},
   "source": [
    "### Save your result for the previous question as a CSV file."
   ]
  },
  {
   "cell_type": "code",
   "execution_count": 138,
   "metadata": {},
   "outputs": [],
   "source": [
    "final_df.to_csv(\"NTA_Final_result.csv\")"
   ]
  },
  {
   "cell_type": "code",
   "execution_count": 139,
   "metadata": {},
   "outputs": [
    {
     "name": "stdout",
     "output_type": "stream",
     "text": [
      "                                                  Average Total Savings  \\\n",
      "NTA                                                                       \n",
      "Battery Park City-Lower Manhattan                         469890.796667   \n",
      "Bushwick South                                             26140.455000   \n",
      "Carroll Gardens-Columbia Street-Red Hook                   24337.390000   \n",
      "College Point                                              17159.372857   \n",
      "Crown Heights North                                         4036.298889   \n",
      "DUMBO-Vinegar Hill-Downtown Brooklyn-Boerum Hill           59950.340000   \n",
      "East New York                                              48433.093333   \n",
      "East Williamsburg                                          13990.626364   \n",
      "Greenpoint                                                  9753.649286   \n",
      "Hunters Point-Sunnyside-West Maspeth                       23931.398933   \n",
      "Hunts Point                                                39246.016154   \n",
      "Manhattanville                                              2760.888889   \n",
      "Maspeth                                                     6658.283333   \n",
      "Mott Haven-Port Morris                                     17843.937857   \n",
      "Queensbridge-Ravenswood-Long Island City                   61830.770625   \n",
      "SoHo-TriBeCa-Civic Center-Little Italy                     37214.024000   \n",
      "Springfield Gardens South-Brookville                       17757.662000   \n",
      "Steinway                                                   11227.155714   \n",
      "Sunset Park West                                           14316.976875   \n",
      "park-cemetery-etc-Brooklyn                                 14327.419333   \n",
      "\n",
      "                                                  Total Jobs created  \n",
      "NTA                                                                   \n",
      "Battery Park City-Lower Manhattan                                0.0  \n",
      "Bushwick South                                                  10.0  \n",
      "Carroll Gardens-Columbia Street-Red Hook                         0.0  \n",
      "College Point                                                    2.0  \n",
      "Crown Heights North                                              0.0  \n",
      "DUMBO-Vinegar Hill-Downtown Brooklyn-Boerum Hill                 0.0  \n",
      "East New York                                                   15.0  \n",
      "East Williamsburg                                                0.0  \n",
      "Greenpoint                                                       0.0  \n",
      "Hunters Point-Sunnyside-West Maspeth                             0.0  \n",
      "Hunts Point                                                     12.0  \n",
      "Manhattanville                                                   0.0  \n",
      "Maspeth                                                         10.0  \n",
      "Mott Haven-Port Morris                                          10.0  \n",
      "Queensbridge-Ravenswood-Long Island City                         0.0  \n",
      "SoHo-TriBeCa-Civic Center-Little Italy                           0.0  \n",
      "Springfield Gardens South-Brookville                             0.0  \n",
      "Steinway                                                        20.0  \n",
      "Sunset Park West                                                 0.0  \n",
      "park-cemetery-etc-Brooklyn                                       0.0  \n"
     ]
    }
   ],
   "source": [
    "print(final_df)\n"
   ]
  },
  {
   "cell_type": "markdown",
   "metadata": {},
   "source": [
    "### Create a scatter plot of jobs created versus average savings.\n",
    "use both a standard and a logarithmic scale for the average savings.\n"
   ]
  },
  {
   "cell_type": "code",
   "execution_count": 154,
   "metadata": {},
   "outputs": [],
   "source": [
    "import seaborn\n",
    "import matplotlib.pyplot as plt\n",
    "\n",
    "from sklearn.preprocessing import StandardScaler\n",
    "\n",
    "scaler = StandardScaler()\n",
    "# transform data\n",
    "\n",
    "final_df['Average Total Savings_scaled']= scaler.fit_transform(final_df[['Average Total Savings']])\n"
   ]
  },
  {
   "cell_type": "code",
   "execution_count": 164,
   "metadata": {},
   "outputs": [
    {
     "data": {
      "image/png": "[encoded data removed]",
      "text/plain": [
       "<Figure size 432x288 with 1 Axes>"
      ]
     },
     "metadata": {
      "needs_background": "light"
     },
     "output_type": "display_data"
    }
   ],
   "source": [
    "_=seaborn.scatterplot(x=\"Total Jobs created\",\n",
    "                    y=\"Average Total Savings_scaled\",\n",
    "                    data=final_df)"
   ]
  },
  {
   "cell_type": "code",
   "execution_count": 163,
   "metadata": {},
   "outputs": [
    {
     "name": "stderr",
     "output_type": "stream",
     "text": [
      "/Users/najatalrashed/opt/anaconda3/lib/python3.8/site-packages/seaborn/_decorators.py:36: FutureWarning: Pass the following variables as keyword args: x, y. From version 0.12, the only valid positional argument will be `data`, and passing other arguments without an explicit keyword will result in an error or misinterpretation.\n",
      "  warnings.warn(\n"
     ]
    },
    {
     "data": {
      "image/png": "[encoded data removed]",
      "text/plain": [
       "<Figure size 504x504 with 1 Axes>"
      ]
     },
     "metadata": {
      "needs_background": "light"
     },
     "output_type": "display_data"
    }
   ],
   "source": [
    "fig, ax = plt.subplots(figsize=(7, 7))\n",
    "ax.set(yscale=\"log\")\n",
    "_=seaborn.scatterplot(\"Total Jobs created\", \"Average Total Savings\", data=final_df)"
   ]
  },
  {
   "cell_type": "markdown",
   "metadata": {},
   "source": [
    "### Histogram of the log of the average total savings.\n"
   ]
  },
  {
   "cell_type": "code",
   "execution_count": 162,
   "metadata": {},
   "outputs": [
    {
     "data": {
      "image/png": "[encoded data removed]",
      "text/plain": [
       "<Figure size 504x504 with 1 Axes>"
      ]
     },
     "metadata": {
      "needs_background": "light"
     },
     "output_type": "display_data"
    }
   ],
   "source": [
    "fig, ax = plt.subplots(figsize=(7, 7))\n",
    "ax.set(xscale=\"log\")\n",
    "_=seaborn.histplot( x=\"Average Total Savings\", data=final_df)"
   ]
  },
  {
   "cell_type": "markdown",
   "metadata": {},
   "source": [
    "### Line plot of the total jobs created for each month"
   ]
  },
  {
   "cell_type": "code",
   "execution_count": 180,
   "metadata": {},
   "outputs": [
    {
     "data": {
      "image/png": "[encoded data removed]",
      "text/plain": [
       "<Figure size 504x504 with 1 Axes>"
      ]
     },
     "metadata": {
      "needs_background": "light"
     },
     "output_type": "display_data"
    }
   ],
   "source": [
    "import datetime as dt\n",
    "\n",
    "df['Effective Date']= pd.to_datetime(df['Effective Date'])\n",
    "df['Effective Month'] = df['Effective Date'].dt.month\n",
    "col_name = {'Job created':'Total Jobs created'}\n",
    "df1 = df.groupby(['Effective Month']).agg({'Job created':'sum'}).rename(columns=col_name)\n",
    "\n",
    "fig, ax = plt.subplots(figsize=(7, 7))\n",
    "_=seaborn.lineplot( y=\"Total Jobs created\", x='Effective Month' , data=df1)"
   ]
  }
 ],
 "metadata": {
  "kernelspec": {
   "display_name": "Python 3",
   "language": "python",
   "name": "python3"
  },
  "language_info": {
   "codemirror_mode": {
    "name": "ipython",
    "version": 3
   },
   "file_extension": ".py",
   "mimetype": "text/x-python",
   "name": "python",
   "nbconvert_exporter": "python",
   "pygments_lexer": "ipython3",
   "version": "3.8.5"
  }
 },
 "nbformat": 4,
 "nbformat_minor": 4
}
